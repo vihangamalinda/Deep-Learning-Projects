{
 "cells": [
  {
   "cell_type": "code",
   "execution_count": 1,
   "id": "66609e4e",
   "metadata": {},
   "outputs": [],
   "source": [
    "import tensorflow as tf\n",
    "from tensorflow.keras import datasets, models, layers\n",
    "import matplotlib.pyplot as plt\n",
    "import numpy as np"
   ]
  },
  {
   "cell_type": "code",
   "execution_count": 7,
   "id": "ff182e94",
   "metadata": {},
   "outputs": [
    {
     "data": {
      "text/plain": [
       "(10000, 32, 32, 3)"
      ]
     },
     "execution_count": 7,
     "metadata": {},
     "output_type": "execute_result"
    }
   ],
   "source": [
    "(X_train,y_train),(X_test,y_test) = datasets.cifar10.load_data()\n",
    "  \n",
    "# X_train.shape  =(50000, 32, 32, 3)\n",
    "# X_test.shape  = (10000, 32, 32, 3)"
   ]
  },
  {
   "cell_type": "code",
   "execution_count": 20,
   "id": "5ff4bbc6",
   "metadata": {},
   "outputs": [],
   "source": [
    "#y array is a rwo dimentional array therefore have to flattern it\n",
    "y_train = y_train.reshape(-1,)\n",
    "y_test = y_test.reshape(-1,)"
   ]
  },
  {
   "cell_type": "code",
   "execution_count": 21,
   "id": "cbe747b3",
   "metadata": {},
   "outputs": [],
   "source": [
    "#X_train[0] gives a array of 32*32 * 3(RGB colours)\n",
    "category =[\"Airplane\",\"Automobile\",\"Bird\",\"Cat\",\"Deer\",\"Dog\",\"Frog\",\"Horse\",\"Ship\",\"Truck\"]\n",
    "def plot_sample(X,y,index):\n",
    "    plt.figure(figsize =(15,2))\n",
    "    plt.imshow(X[index])\n",
    "    plt.xlabel(category[y[index]])"
   ]
  },
  {
   "cell_type": "code",
   "execution_count": 22,
   "id": "de0c0799",
   "metadata": {},
   "outputs": [
    {
     "data": {
      "image/png": "[encoded data removed]",
      "text/plain": [
       "<Figure size 1080x144 with 1 Axes>"
      ]
     },
     "metadata": {
      "needs_background": "light"
     },
     "output_type": "display_data"
    }
   ],
   "source": [
    "plot_sample(X_train,y_train,8)"
   ]
  },
  {
   "cell_type": "code",
   "execution_count": 23,
   "id": "a9262575",
   "metadata": {},
   "outputs": [],
   "source": [
    "# scalling the image to 0-1 by dividing it from max value(255)\n",
    "X_train = X_train / 255\n",
    "X_test = X_test / 255"
   ]
  },
  {
   "cell_type": "code",
   "execution_count": 31,
   "id": "0d2b4050",
   "metadata": {},
   "outputs": [],
   "source": [
    "cnn = models.Sequential([\n",
    "    #cnn layer\n",
    "    layers.Conv2D(filters=32, kernel_size=(3,3), activation =\"relu\", input_shape=(32,32,3)),\n",
    "    layers.MaxPooling2D((2,2)),\n",
    "    \n",
    "    layers.Conv2D(filters=64, kernel_size=(3,3), activation =\"relu\"),\n",
    "    layers.MaxPooling2D((2,2)),\n",
    "    \n",
    "    #dense Layers\n",
    "    layers.Flatten(),\n",
    "    layers.Dense(64,activation=\"relu\"),\n",
    "    layers.Dense(10,activation =\"softmax\")\n",
    "])"
   ]
  },
  {
   "cell_type": "code",
   "execution_count": 32,
   "id": "dd4a34af",
   "metadata": {},
   "outputs": [],
   "source": [
    "cnn.compile(\n",
    "    optimizer=\"adam\",\n",
    "    loss= \"sparse_categorical_crossentropy\",\n",
    "    metrics= [\"accuracy\"]\n",
    ")"
   ]
  },
  {
   "cell_type": "code",
   "execution_count": 33,
   "id": "6fb2fd2d",
   "metadata": {},
   "outputs": [
    {
     "name": "stdout",
     "output_type": "stream",
     "text": [
      "Epoch 1/10\n",
      "1563/1563 [==============================] - 27s 17ms/step - loss: 1.4441 - accuracy: 0.4840\n",
      "Epoch 2/10\n",
      "1563/1563 [==============================] - 27s 17ms/step - loss: 1.0890 - accuracy: 0.6216\n",
      "Epoch 3/10\n",
      "1563/1563 [==============================] - 27s 17ms/step - loss: 0.9587 - accuracy: 0.6662\n",
      "Epoch 4/10\n",
      "1563/1563 [==============================] - 27s 17ms/step - loss: 0.8678 - accuracy: 0.6996\n",
      "Epoch 5/10\n",
      "1563/1563 [==============================] - 28s 18ms/step - loss: 0.8005 - accuracy: 0.7232\n",
      "Epoch 6/10\n",
      "1563/1563 [==============================] - 27s 17ms/step - loss: 0.7434 - accuracy: 0.7421\n",
      "Epoch 7/10\n",
      "1563/1563 [==============================] - 28s 18ms/step - loss: 0.6928 - accuracy: 0.7600\n",
      "Epoch 8/10\n",
      "1563/1563 [==============================] - 28s 18ms/step - loss: 0.6468 - accuracy: 0.7760\n",
      "Epoch 9/10\n",
      "1563/1563 [==============================] - 27s 17ms/step - loss: 0.5990 - accuracy: 0.7901\n",
      "Epoch 10/10\n",
      "1563/1563 [==============================] - 28s 18ms/step - loss: 0.5600 - accuracy: 0.8051\n"
     ]
    },
    {
     "data": {
      "text/plain": [
       "<tensorflow.python.keras.callbacks.History at 0x1a8baffa970>"
      ]
     },
     "execution_count": 33,
     "metadata": {},
     "output_type": "execute_result"
    }
   ],
   "source": [
    "cnn.fit(X_train,y_train, epochs= 10)"
   ]
  },
  {
   "cell_type": "code",
   "execution_count": 34,
   "id": "2c060d10",
   "metadata": {},
   "outputs": [
    {
     "name": "stdout",
     "output_type": "stream",
     "text": [
      "313/313 [==============================] - 1s 3ms/step - loss: 0.9382 - accuracy: 0.6965\n"
     ]
    },
    {
     "data": {
      "text/plain": [
       "[0.938188374042511, 0.6965000033378601]"
      ]
     },
     "execution_count": 34,
     "metadata": {},
     "output_type": "execute_result"
    }
   ],
   "source": [
    "cnn.evaluate(X_test,y_test)"
   ]
  },
  {
   "cell_type": "code",
   "execution_count": 35,
   "id": "e08d651a",
   "metadata": {},
   "outputs": [
    {
     "data": {
      "image/png": "[encoded data removed]",
      "text/plain": [
       "<Figure size 1080x144 with 1 Axes>"
      ]
     },
     "metadata": {
      "needs_background": "light"
     },
     "output_type": "display_data"
    }
   ],
   "source": [
    "plot_sample(X_test,y_test,1)"
   ]
  },
  {
   "cell_type": "code",
   "execution_count": 36,
   "id": "23aac58d",
   "metadata": {},
   "outputs": [
    {
     "data": {
      "text/plain": [
       "array([[7.92780484e-05, 4.77588947e-05, 2.32085562e-03, ...,\n",
       "        8.33029117e-05, 9.81248356e-03, 2.11210613e-06],\n",
       "       [4.65425663e-04, 3.51651898e-03, 1.25949930e-06, ...,\n",
       "        2.19807475e-06, 9.95875895e-01, 1.27569321e-04],\n",
       "       [1.66736096e-01, 4.66315120e-01, 7.25952582e-03, ...,\n",
       "        2.24571372e-03, 2.29461998e-01, 1.13013953e-01],\n",
       "       ...,\n",
       "       [3.72384147e-06, 6.17085449e-09, 3.42347354e-01, ...,\n",
       "        1.96043760e-01, 8.47230476e-05, 1.07450405e-05],\n",
       "       [6.35265410e-01, 1.80310681e-01, 7.32704205e-03, ...,\n",
       "        9.57522483e-04, 4.62683762e-04, 1.60994579e-03],\n",
       "       [1.99663006e-07, 7.16904154e-08, 1.69753948e-05, ...,\n",
       "        9.98490453e-01, 2.65257345e-08, 2.78604773e-07]], dtype=float32)"
      ]
     },
     "execution_count": 36,
     "metadata": {},
     "output_type": "execute_result"
    }
   ],
   "source": [
    "y_predict = cnn.predict(X_test)\n",
    "y_predict"
   ]
  },
  {
   "cell_type": "code",
   "execution_count": 38,
   "id": "4c0a967e",
   "metadata": {},
   "outputs": [
    {
     "data": {
      "text/plain": [
       "[3, 8, 1, 0, 6, 6, 1, 6, 3, 1]"
      ]
     },
     "execution_count": 38,
     "metadata": {},
     "output_type": "execute_result"
    }
   ],
   "source": [
    "# np.argmax give the index of the maximum no\n",
    "y_classes = [np.argmax(element) for element in y_predict]\n",
    "y_classes[:10]"
   ]
  },
  {
   "cell_type": "code",
   "execution_count": 40,
   "id": "a5fa6854",
   "metadata": {},
   "outputs": [
    {
     "data": {
      "text/plain": [
       "array([3, 8, 8, 0, 6, 6, 1, 6, 3, 1], dtype=uint8)"
      ]
     },
     "execution_count": 40,
     "metadata": {},
     "output_type": "execute_result"
    }
   ],
   "source": [
    "#compare above array with following array\n",
    "y_test[:10]"
   ]
  },
  {
   "cell_type": "code",
   "execution_count": 49,
   "id": "84420406",
   "metadata": {},
   "outputs": [
    {
     "data": {
      "image/png": "[encoded data removed]",
      "text/plain": [
       "<Figure size 1080x144 with 1 Axes>"
      ]
     },
     "metadata": {
      "needs_background": "light"
     },
     "output_type": "display_data"
    }
   ],
   "source": [
    "plot_sample(X_test,y_test,4)"
   ]
  },
  {
   "cell_type": "code",
   "execution_count": 50,
   "id": "4abe5884",
   "metadata": {},
   "outputs": [
    {
     "data": {
      "text/plain": [
       "'Frog'"
      ]
     },
     "execution_count": 50,
     "metadata": {},
     "output_type": "execute_result"
    }
   ],
   "source": [
    "category[y_classes[4]]"
   ]
  },
  {
   "cell_type": "code",
   "execution_count": 54,
   "id": "5fea1818",
   "metadata": {},
   "outputs": [
    {
     "name": "stdout",
     "output_type": "stream",
     "text": [
      "              precision    recall  f1-score   support\n",
      "\n",
      "           0       0.70      0.76      0.73      1000\n",
      "           1       0.89      0.76      0.82      1000\n",
      "           2       0.61      0.59      0.60      1000\n",
      "           3       0.56      0.48      0.51      1000\n",
      "           4       0.60      0.67      0.63      1000\n",
      "           5       0.61      0.57      0.59      1000\n",
      "           6       0.75      0.79      0.77      1000\n",
      "           7       0.65      0.79      0.71      1000\n",
      "           8       0.82      0.80      0.81      1000\n",
      "           9       0.81      0.76      0.78      1000\n",
      "\n",
      "    accuracy                           0.70     10000\n",
      "   macro avg       0.70      0.70      0.70     10000\n",
      "weighted avg       0.70      0.70      0.70     10000\n",
      "\n"
     ]
    }
   ],
   "source": [
    "from sklearn.metrics import classification_report\n",
    "print(classification_report(y_test,y_classes))"
   ]
  },
  {
   "cell_type": "code",
   "execution_count": null,
   "id": "f54979b2",
   "metadata": {},
   "outputs": [],
   "source": []
  }
 ],
 "metadata": {
  "kernelspec": {
   "display_name": "Python 3",
   "language": "python",
   "name": "python3"
  },
  "language_info": {
   "codemirror_mode": {
    "name": "ipython",
    "version": 3
   },
   "file_extension": ".py",
   "mimetype": "text/x-python",
   "name": "python",
   "nbconvert_exporter": "python",
   "pygments_lexer": "ipython3",
   "version": "3.8.8"
  }
 },
 "nbformat": 4,
 "nbformat_minor": 5
}
